{
 "cells": [
  {
   "cell_type": "markdown",
   "metadata": {},
   "source": [
    "# Merge two sorted list to produce one sorted list using either for or while loop"
   ]
  },
  {
   "cell_type": "code",
   "execution_count": 1,
   "metadata": {},
   "outputs": [
    {
     "name": "stdout",
     "output_type": "stream",
     "text": [
      "[10, 20, 40, 60, 70, 80]\n",
      "[5, 12, 25, 35, 35, 60]\n"
     ]
    }
   ],
   "source": [
    "list1=[10,20,40,60,70,80]\n",
    "list2=[5,12,25,35,35,60]\n",
    "print(list1)\n",
    "print(list2)"
   ]
  },
  {
   "cell_type": "code",
   "execution_count": 6,
   "metadata": {},
   "outputs": [
    {
     "name": "stdout",
     "output_type": "stream",
     "text": [
      "6\n",
      "6\n"
     ]
    }
   ],
   "source": [
    "a = len(list1)\n",
    "b = len(list2)\n",
    "print(a)\n",
    "print(b)"
   ]
  },
  {
   "cell_type": "code",
   "execution_count": 14,
   "metadata": {},
   "outputs": [
    {
     "name": "stdout",
     "output_type": "stream",
     "text": [
      "Sorted merged list is[10, 20, 40, 60, 70, 80, 5, 12, 25, 35, 35, 60]\n"
     ]
    }
   ],
   "source": [
    "list3=[]\n",
    "i=0\n",
    "j=0\n",
    "\n",
    "while i<0 and j<b:\n",
    "    if list1[i] < list2[j]:\n",
    "        list3.append(list1[i])\n",
    "        i=i+1\n",
    "    else:\n",
    "            res.append(list2[j])\n",
    "            j=j+1\n",
    "            \n",
    "list4= list3 + list1[i:]+list2[j:]\n",
    "print(\"Sorted merged list is\" +str(list4))\n",
    "\n"
   ]
  },
  {
   "cell_type": "code",
   "execution_count": 17,
   "metadata": {},
   "outputs": [
    {
     "name": "stdout",
     "output_type": "stream",
     "text": [
      "[5, 10, 12, 20, 25, 35, 35, 40, 60, 60, 70, 80]\n"
     ]
    }
   ],
   "source": [
    "list4.sort()\n",
    "print(list4)"
   ]
  },
  {
   "cell_type": "code",
   "execution_count": null,
   "metadata": {},
   "outputs": [],
   "source": []
  }
 ],
 "metadata": {
  "kernelspec": {
   "display_name": "Python 3",
   "language": "python",
   "name": "python3"
  },
  "language_info": {
   "codemirror_mode": {
    "name": "ipython",
    "version": 3
   },
   "file_extension": ".py",
   "mimetype": "text/x-python",
   "name": "python",
   "nbconvert_exporter": "python",
   "pygments_lexer": "ipython3",
   "version": "3.7.6"
  }
 },
 "nbformat": 4,
 "nbformat_minor": 4
}
